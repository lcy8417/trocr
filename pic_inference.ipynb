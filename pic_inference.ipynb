{
 "cells": [
  {
   "cell_type": "code",
   "execution_count": 1,
   "id": "aaed9cbc",
   "metadata": {},
   "outputs": [
    {
     "name": "stderr",
     "output_type": "stream",
     "text": [
      "/home/pirl/miniconda3/envs/ocr-rec-trocr-py39/lib/python3.9/site-packages/tqdm/auto.py:21: TqdmWarning: IProgress not found. Please update jupyter and ipywidgets. See https://ipywidgets.readthedocs.io/en/stable/user_install.html\n",
      "  from .autonotebook import tqdm as notebook_tqdm\n"
     ]
    }
   ],
   "source": [
    "import task\n",
    "import deit\n",
    "import trocr_models\n",
    "import torch\n",
    "import fairseq\n",
    "from fairseq import utils\n",
    "from fairseq_cli import generate\n",
    "from PIL import Image\n",
    "import torchvision.transforms as transforms\n",
    "\n",
    "\n",
    "def init(model_path, beam=5):\n",
    "    model, cfg, task = fairseq.checkpoint_utils.load_model_ensemble_and_task(\n",
    "        [model_path],\n",
    "        arg_overrides={\"beam\": beam, \"task\": \"text_recognition\", \"data\": \"\", \"fp16\": False})\n",
    "\n",
    "    device = \"cuda\" if torch.cuda.is_available() else \"cpu\"\n",
    "    model[0].to(device)\n",
    "\n",
    "    img_transform = transforms.Compose([\n",
    "        transforms.Resize((384, 384), interpolation=3),\n",
    "        transforms.ToTensor(),\n",
    "        transforms.Normalize(0.5, 0.5)\n",
    "    ])\n",
    "\n",
    "    generator = task.build_generator(\n",
    "        model, cfg.generation, extra_gen_cls_kwargs={'lm_model': None, 'lm_weight': None}\n",
    "    )\n",
    "\n",
    "    bpe = task.build_bpe(cfg.bpe)\n",
    "\n",
    "    return model, cfg, task, generator, bpe, img_transform, device\n",
    "\n",
    "\n",
    "def preprocess(img_path, img_transform):\n",
    "    im = Image.open(img_path).convert('RGB').resize((384, 384))\n",
    "    im = img_transform(im).unsqueeze(0).to(device).float()\n",
    "\n",
    "    sample = {\n",
    "        'net_input': {\"imgs\": im},\n",
    "    }\n",
    "\n",
    "    return sample\n",
    "\n",
    "\n",
    "def get_text(cfg, generator, model, sample, bpe):\n",
    "    decoder_output = task.inference_step(generator, model, sample, prefix_tokens=None, constraints=None)\n",
    "    decoder_output = decoder_output[0][0]       #top1\n",
    "\n",
    "    hypo_tokens, hypo_str, alignment = utils.post_process_prediction(\n",
    "        hypo_tokens=decoder_output[\"tokens\"].int().cpu(),\n",
    "        src_str=\"\",\n",
    "        alignment=decoder_output[\"alignment\"],\n",
    "        align_dict=None,\n",
    "        tgt_dict=model[0].decoder.dictionary,\n",
    "        remove_bpe=cfg.common_eval.post_process,\n",
    "        extra_symbols_to_ignore=generate.get_symbols_to_strip_from_output(generator),\n",
    "    )\n",
    "\n",
    "    detok_hypo_str = bpe.decode(hypo_str)\n",
    "\n",
    "    return detok_hypo_str"
   ]
  },
  {
   "cell_type": "code",
   "execution_count": 4,
   "id": "b95c01e4",
   "metadata": {},
   "outputs": [
    {
     "ename": "OSError",
     "evalue": "Model file not found: path/to/model",
     "output_type": "error",
     "traceback": [
      "\u001b[0;31m---------------------------------------------------------------------------\u001b[0m",
      "\u001b[0;31mOSError\u001b[0m                                   Traceback (most recent call last)",
      "Cell \u001b[0;32mIn[4], line 5\u001b[0m\n\u001b[1;32m      2\u001b[0m jpg_path \u001b[38;5;241m=\u001b[39m \u001b[38;5;124m\"\u001b[39m\u001b[38;5;124mpath/to/pic\u001b[39m\u001b[38;5;124m\"\u001b[39m\n\u001b[1;32m      3\u001b[0m beam \u001b[38;5;241m=\u001b[39m \u001b[38;5;241m5\u001b[39m\n\u001b[0;32m----> 5\u001b[0m model, cfg, task, generator, bpe, img_transform, device \u001b[38;5;241m=\u001b[39m \u001b[43minit\u001b[49m\u001b[43m(\u001b[49m\u001b[43mmodel_path\u001b[49m\u001b[43m,\u001b[49m\u001b[43m \u001b[49m\u001b[43mbeam\u001b[49m\u001b[43m)\u001b[49m\n\u001b[1;32m      7\u001b[0m \u001b[38;5;66;03m# sample = preprocess(jpg_path, img_transform)\u001b[39;00m\n\u001b[1;32m      8\u001b[0m \n\u001b[1;32m      9\u001b[0m \u001b[38;5;66;03m# text = get_text(cfg, generator, model, sample, bpe)\u001b[39;00m\n\u001b[0;32m   (...)\u001b[0m\n\u001b[1;32m     12\u001b[0m \n\u001b[1;32m     13\u001b[0m \u001b[38;5;66;03m# print('done')\u001b[39;00m\n",
      "Cell \u001b[0;32mIn[1], line 13\u001b[0m, in \u001b[0;36minit\u001b[0;34m(model_path, beam)\u001b[0m\n\u001b[1;32m     12\u001b[0m \u001b[38;5;28;01mdef\u001b[39;00m\u001b[38;5;250m \u001b[39m\u001b[38;5;21minit\u001b[39m(model_path, beam\u001b[38;5;241m=\u001b[39m\u001b[38;5;241m5\u001b[39m):\n\u001b[0;32m---> 13\u001b[0m     model, cfg, task \u001b[38;5;241m=\u001b[39m \u001b[43mfairseq\u001b[49m\u001b[38;5;241;43m.\u001b[39;49m\u001b[43mcheckpoint_utils\u001b[49m\u001b[38;5;241;43m.\u001b[39;49m\u001b[43mload_model_ensemble_and_task\u001b[49m\u001b[43m(\u001b[49m\n\u001b[1;32m     14\u001b[0m \u001b[43m        \u001b[49m\u001b[43m[\u001b[49m\u001b[43mmodel_path\u001b[49m\u001b[43m]\u001b[49m\u001b[43m,\u001b[49m\n\u001b[1;32m     15\u001b[0m \u001b[43m        \u001b[49m\u001b[43marg_overrides\u001b[49m\u001b[38;5;241;43m=\u001b[39;49m\u001b[43m{\u001b[49m\u001b[38;5;124;43m\"\u001b[39;49m\u001b[38;5;124;43mbeam\u001b[39;49m\u001b[38;5;124;43m\"\u001b[39;49m\u001b[43m:\u001b[49m\u001b[43m \u001b[49m\u001b[43mbeam\u001b[49m\u001b[43m,\u001b[49m\u001b[43m \u001b[49m\u001b[38;5;124;43m\"\u001b[39;49m\u001b[38;5;124;43mtask\u001b[39;49m\u001b[38;5;124;43m\"\u001b[39;49m\u001b[43m:\u001b[49m\u001b[43m \u001b[49m\u001b[38;5;124;43m\"\u001b[39;49m\u001b[38;5;124;43mtext_recognition\u001b[39;49m\u001b[38;5;124;43m\"\u001b[39;49m\u001b[43m,\u001b[49m\u001b[43m \u001b[49m\u001b[38;5;124;43m\"\u001b[39;49m\u001b[38;5;124;43mdata\u001b[39;49m\u001b[38;5;124;43m\"\u001b[39;49m\u001b[43m:\u001b[49m\u001b[43m \u001b[49m\u001b[38;5;124;43m\"\u001b[39;49m\u001b[38;5;124;43m\"\u001b[39;49m\u001b[43m,\u001b[49m\u001b[43m \u001b[49m\u001b[38;5;124;43m\"\u001b[39;49m\u001b[38;5;124;43mfp16\u001b[39;49m\u001b[38;5;124;43m\"\u001b[39;49m\u001b[43m:\u001b[49m\u001b[43m \u001b[49m\u001b[38;5;28;43;01mFalse\u001b[39;49;00m\u001b[43m}\u001b[49m\u001b[43m)\u001b[49m\n\u001b[1;32m     17\u001b[0m     device \u001b[38;5;241m=\u001b[39m \u001b[38;5;124m\"\u001b[39m\u001b[38;5;124mcuda\u001b[39m\u001b[38;5;124m\"\u001b[39m \u001b[38;5;28;01mif\u001b[39;00m torch\u001b[38;5;241m.\u001b[39mcuda\u001b[38;5;241m.\u001b[39mis_available() \u001b[38;5;28;01melse\u001b[39;00m \u001b[38;5;124m\"\u001b[39m\u001b[38;5;124mcpu\u001b[39m\u001b[38;5;124m\"\u001b[39m\n\u001b[1;32m     18\u001b[0m     model[\u001b[38;5;241m0\u001b[39m]\u001b[38;5;241m.\u001b[39mto(device)\n",
      "File \u001b[0;32m~/miniconda3/envs/ocr-rec-trocr-py39/lib/python3.9/site-packages/fairseq/checkpoint_utils.py:423\u001b[0m, in \u001b[0;36mload_model_ensemble_and_task\u001b[0;34m(filenames, arg_overrides, task, strict, suffix, num_shards, state)\u001b[0m\n\u001b[1;32m    418\u001b[0m filename \u001b[38;5;241m=\u001b[39m get_maybe_sharded_checkpoint_filename(\n\u001b[1;32m    419\u001b[0m     orig_filename, suffix, shard_idx, num_shards\n\u001b[1;32m    420\u001b[0m )\n\u001b[1;32m    422\u001b[0m \u001b[38;5;28;01mif\u001b[39;00m \u001b[38;5;129;01mnot\u001b[39;00m PathManager\u001b[38;5;241m.\u001b[39mexists(filename):\n\u001b[0;32m--> 423\u001b[0m     \u001b[38;5;28;01mraise\u001b[39;00m \u001b[38;5;167;01mIOError\u001b[39;00m(\u001b[38;5;124m\"\u001b[39m\u001b[38;5;124mModel file not found: \u001b[39m\u001b[38;5;132;01m{}\u001b[39;00m\u001b[38;5;124m\"\u001b[39m\u001b[38;5;241m.\u001b[39mformat(filename))\n\u001b[1;32m    424\u001b[0m \u001b[38;5;28;01mif\u001b[39;00m state \u001b[38;5;129;01mis\u001b[39;00m \u001b[38;5;28;01mNone\u001b[39;00m:\n\u001b[1;32m    425\u001b[0m     state \u001b[38;5;241m=\u001b[39m load_checkpoint_to_cpu(filename, arg_overrides)\n",
      "\u001b[0;31mOSError\u001b[0m: Model file not found: path/to/model"
     ]
    }
   ],
   "source": [
    "model_path = 'path/to/model'\n",
    "jpg_path = \"path/to/pic\"\n",
    "beam = 5\n",
    "\n",
    "model, cfg, task, generator, bpe, img_transform, device = init(model_path, beam)\n",
    "\n",
    "# sample = preprocess(jpg_path, img_transform)\n",
    "\n",
    "# text = get_text(cfg, generator, model, sample, bpe)\n",
    "\n",
    "# print(text)\n",
    "\n",
    "# print('done')"
   ]
  }
 ],
 "metadata": {
  "kernelspec": {
   "display_name": "Python 3.8.5 ('base')",
   "language": "python",
   "name": "python3"
  },
  "language_info": {
   "codemirror_mode": {
    "name": "ipython",
    "version": 3
   },
   "file_extension": ".py",
   "mimetype": "text/x-python",
   "name": "python",
   "nbconvert_exporter": "python",
   "pygments_lexer": "ipython3",
   "version": "3.9.0"
  },
  "vscode": {
   "interpreter": {
    "hash": "0b8488e5f98ef3932f4ff0893213e55e6ba8b00dde307078d0f3efb25017ce11"
   }
  }
 },
 "nbformat": 4,
 "nbformat_minor": 5
}
